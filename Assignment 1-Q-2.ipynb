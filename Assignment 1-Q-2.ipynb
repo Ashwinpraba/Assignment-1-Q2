{
 "cells": [
  {
   "cell_type": "markdown",
   "id": "7b0415e2",
   "metadata": {},
   "source": [
    "# Write a Python program that accepts a word from the user and reverse it."
   ]
  },
  {
   "cell_type": "code",
   "execution_count": 30,
   "id": "db715611",
   "metadata": {},
   "outputs": [
    {
     "data": {
      "text/plain": [
       "str"
      ]
     },
     "execution_count": 30,
     "metadata": {},
     "output_type": "execute_result"
    }
   ],
   "source": [
    "Name = \"Ashwinsrinivasan\"\n",
    "type(Name)"
   ]
  },
  {
   "cell_type": "code",
   "execution_count": 31,
   "id": "1b3554ed",
   "metadata": {},
   "outputs": [
    {
     "name": "stdout",
     "output_type": "stream",
     "text": [
      "n a s a v i n i r s n i w h s A "
     ]
    }
   ],
   "source": [
    "for Reverse in range(len(Name)-1,-1,-1):\n",
    "    print(Name[Reverse],end=\" \")"
   ]
  },
  {
   "cell_type": "markdown",
   "id": "d5499f29",
   "metadata": {},
   "source": [
    "# ---------------------------------------------------------------------------------------------------------------"
   ]
  },
  {
   "cell_type": "code",
   "execution_count": 32,
   "id": "3d6a572b",
   "metadata": {},
   "outputs": [
    {
     "data": {
      "text/plain": [
       "str"
      ]
     },
     "execution_count": 32,
     "metadata": {},
     "output_type": "execute_result"
    }
   ],
   "source": [
    "Name = \"Edyoda\"\n",
    "type(Name)"
   ]
  },
  {
   "cell_type": "code",
   "execution_count": 33,
   "id": "ed755e5f",
   "metadata": {},
   "outputs": [
    {
     "name": "stdout",
     "output_type": "stream",
     "text": [
      "a d o y d E "
     ]
    }
   ],
   "source": [
    "for Reverse in range(len(Name)-1,-1,-1):\n",
    "    print(Name[Reverse],end=\" \")"
   ]
  },
  {
   "cell_type": "code",
   "execution_count": null,
   "id": "64f6fdbb",
   "metadata": {},
   "outputs": [],
   "source": []
  }
 ],
 "metadata": {
  "kernelspec": {
   "display_name": "Python 3 (ipykernel)",
   "language": "python",
   "name": "python3"
  },
  "language_info": {
   "codemirror_mode": {
    "name": "ipython",
    "version": 3
   },
   "file_extension": ".py",
   "mimetype": "text/x-python",
   "name": "python",
   "nbconvert_exporter": "python",
   "pygments_lexer": "ipython3",
   "version": "3.11.3"
  }
 },
 "nbformat": 4,
 "nbformat_minor": 5
}
